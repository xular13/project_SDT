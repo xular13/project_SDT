{
 "cells": [
  {
   "cell_type": "code",
   "execution_count": null,
   "metadata": {},
   "outputs": [],
   "source": [
    "import pandas as pd\n",
    "from pathlib import Path\n",
    "import os\n",
    "import plotly.express as px\n",
    "import plotly.graph_objects as go"
   ]
  },
  {
   "cell_type": "code",
   "execution_count": null,
   "metadata": {},
   "outputs": [],
   "source": [
    "absolute_path = Path(os.path.abspath('EDA.ipynb')).parent.parent\n",
    "df_path = absolute_path.joinpath('vehicles_us.csv')\n",
    "df = pd.read_csv(df_path)\n"
   ]
  },
  {
   "cell_type": "code",
   "execution_count": null,
   "metadata": {},
   "outputs": [],
   "source": [
    "df.head(5)"
   ]
  },
  {
   "cell_type": "code",
   "execution_count": null,
   "metadata": {},
   "outputs": [],
   "source": [
    "df.info()"
   ]
  },
  {
   "cell_type": "code",
   "execution_count": null,
   "metadata": {},
   "outputs": [],
   "source": [
    "df.isna().sum()"
   ]
  },
  {
   "cell_type": "code",
   "execution_count": null,
   "metadata": {},
   "outputs": [],
   "source": [
    "df.describe()"
   ]
  },
  {
   "cell_type": "code",
   "execution_count": null,
   "metadata": {},
   "outputs": [],
   "source": [
    "df.is_4wd.value_counts(dropna=False)"
   ]
  },
  {
   "cell_type": "markdown",
   "metadata": {},
   "source": [
    "This column refers to is car 4 wd. There is only 1 and NaN, so we can define that 1 is True and NaN is False."
   ]
  },
  {
   "cell_type": "code",
   "execution_count": null,
   "metadata": {},
   "outputs": [],
   "source": [
    "df.is_4wd = df.is_4wd.fillna(0)\n",
    "df.is_4wd = df.is_4wd.astype(bool)"
   ]
  },
  {
   "cell_type": "markdown",
   "metadata": {},
   "source": [
    "In column that define color all NaN shoul be changed to unknown."
   ]
  },
  {
   "cell_type": "code",
   "execution_count": null,
   "metadata": {},
   "outputs": [],
   "source": [
    "df.paint_color = df.paint_color.fillna('unknown')"
   ]
  },
  {
   "cell_type": "code",
   "execution_count": null,
   "metadata": {},
   "outputs": [],
   "source": [
    "df.cylinders = df.cylinders.fillna('unknown')"
   ]
  },
  {
   "cell_type": "code",
   "execution_count": null,
   "metadata": {},
   "outputs": [],
   "source": [
    "df.model_year.unique()"
   ]
  },
  {
   "cell_type": "code",
   "execution_count": null,
   "metadata": {},
   "outputs": [],
   "source": [
    "model_year_df = df.groupby(by= 'model_year')['price'].agg(['mean', 'count'])"
   ]
  },
  {
   "cell_type": "code",
   "execution_count": null,
   "metadata": {},
   "outputs": [],
   "source": [
    "fig = px.scatter(model_year_df, y = 'mean', trendline = 'lowess')\n",
    "fig.update_layout(\n",
    "    xaxis_title = 'model year',\n",
    "    yaxis_title = 'price'\n",
    ")\n",
    "fig.show()"
   ]
  },
  {
   "cell_type": "markdown",
   "metadata": {},
   "source": [
    "There is some non-linear trendline here between price and  model year. Unfortunatly in dataset we have 3619 NaN values and for proper analysis in future we have to get rid of them."
   ]
  },
  {
   "cell_type": "code",
   "execution_count": null,
   "metadata": {},
   "outputs": [],
   "source": [
    "fig = px.scatter(model_year_df, y = 'count')\n",
    "fig.update_layout(\n",
    "    xaxis_title = 'model year',\n",
    "    yaxis_title = 'quantity'\n",
    ")\n",
    "fig.show()"
   ]
  },
  {
   "cell_type": "markdown",
   "metadata": {},
   "source": [
    " Dropping all NaN values in model year"
   ]
  },
  {
   "cell_type": "code",
   "execution_count": null,
   "metadata": {},
   "outputs": [],
   "source": [
    "df.head()"
   ]
  },
  {
   "cell_type": "code",
   "execution_count": null,
   "metadata": {},
   "outputs": [],
   "source": [
    "df['odometer_adjusted'] = round(df['odometer']/1000)\n",
    "odometer_df = df.groupby('odometer_adjusted')['price'].mean()\n"
   ]
  },
  {
   "cell_type": "code",
   "execution_count": null,
   "metadata": {},
   "outputs": [],
   "source": [
    "fig = px.scatter(odometer_df)\n",
    "fig.update_layout(\n",
    "    xaxis_title = 'odometer',\n",
    "    yaxis_title = 'mean price',\n",
    "    xaxis_ticksuffix = 'K'\n",
    ")\n",
    "fig.show()"
   ]
  },
  {
   "cell_type": "code",
   "execution_count": null,
   "metadata": {},
   "outputs": [],
   "source": [
    "df.model.str.split(' ', n = 1, expand = True)"
   ]
  },
  {
   "cell_type": "code",
   "execution_count": null,
   "metadata": {},
   "outputs": [],
   "source": [
    "df[['manufacturer', 'model']] = df.model.str.split(' ', n = 1, expand = True)"
   ]
  },
  {
   "cell_type": "code",
   "execution_count": null,
   "metadata": {},
   "outputs": [],
   "source": [
    "df.manufacture.unique()"
   ]
  },
  {
   "cell_type": "code",
   "execution_count": null,
   "metadata": {},
   "outputs": [],
   "source": [
    "df_manufacturer = df.groupby(['manufacturer', 'type'])['type'].count().unstack(fill_value=0)\n",
    "fig = px.bar(df_manufacturer)\n",
    "fig.show()\n",
    "# df_manufacturer.head(10)"
   ]
  },
  {
   "cell_type": "code",
   "execution_count": null,
   "metadata": {},
   "outputs": [],
   "source": [
    "fig = px.histogram(df, x = 'model_year', color = 'condition')\n",
    "fig.show()\n"
   ]
  },
  {
   "cell_type": "code",
   "execution_count": null,
   "metadata": {},
   "outputs": [],
   "source": [
    "fig_3 = px.histogram(df[(df['manufacturer'] == 'bmw') | (df['manufacture'] == 'gmc')], x= 'price', color='manufacture', histnorm='percent')\n",
    "fig_3.show()"
   ]
  },
  {
   "cell_type": "code",
   "execution_count": null,
   "metadata": {},
   "outputs": [],
   "source": [
    "test = df[(df['manufacturer'] == 'bmw') | (df['manufacturer'] == 'gmc')]\n",
    "fig_3 = go.Figure()\n",
    "trace_1 = np.array(df[df['manufacturer'] == 'bmw']['price'])\n",
    "trace_2 = np.array(df[df['manufacturer'] == 'gmc']['price'])\n",
    "fig_3.add_trace(go.Histogram(x = df[df['manufacturer'] == 'bmw']['price'], histnorm= 'percent', name = 'sdf'))\n",
    "fig_3.add_trace(go.Histogram(x = trace_2, histnorm= 'percent'))\n",
    "fig_3.update_layout(barmode='overlay')\n",
    "# Reduce opacity to see both histograms\n",
    "fig_3.update_traces(opacity=0.75)\n",
    "\n",
    "fig_3.show()"
   ]
  },
  {
   "cell_type": "code",
   "execution_count": null,
   "metadata": {},
   "outputs": [],
   "source": [
    "import numpy as np\n",
    "np.array(df[df['manufacture'] == 'bmw']['price'])"
   ]
  },
  {
   "cell_type": "code",
   "execution_count": null,
   "metadata": {},
   "outputs": [],
   "source": [
    "df_manufacturer_year = df"
   ]
  }
 ],
 "metadata": {
  "kernelspec": {
   "display_name": ".venv",
   "language": "python",
   "name": "python3"
  },
  "language_info": {
   "codemirror_mode": {
    "name": "ipython",
    "version": 3
   },
   "file_extension": ".py",
   "mimetype": "text/x-python",
   "name": "python",
   "nbconvert_exporter": "python",
   "pygments_lexer": "ipython3",
   "version": "3.8.3"
  },
  "orig_nbformat": 4
 },
 "nbformat": 4,
 "nbformat_minor": 2
}
